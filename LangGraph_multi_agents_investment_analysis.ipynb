{
  "cells": [
    {
      "cell_type": "markdown",
      "source": [
        "# Open Notebook directly in Google Colab:\n",
        "\n",
        "<a target=\"_blank\" href=\"https://colab.research.google.com/github/CFEM-Seminar/blob/main/LangGraph_multi_agents_investment_analysis.ipynb\">\n",
        "  <img src=\"https://colab.research.google.com/assets/colab-badge.svg\" alt=\"Open In Colab\"/>\n",
        "</a>"
      ],
      "metadata": {
        "id": "XjgQDJHN4ZLT"
      },
      "id": "XjgQDJHN4ZLT"
    },
    {
      "cell_type": "markdown",
      "id": "a3e3ebc4-57af-4fe4-bdd3-36aff67bf276",
      "metadata": {
        "id": "a3e3ebc4-57af-4fe4-bdd3-36aff67bf276"
      },
      "source": [
        "# Create a Team of Agents to do Investment Analysis\n",
        "\n",
        "<img src=\"https://drive.google.com/uc?export=view&id=1xNZD0UabnSU5YJVuZtJ9-CQP6FdHPfYA\" alt=\"Graph\" width=\"900\">\n",
        "\n",
        "\n",
        "This notebook draws inspiration from the paper [AutoGen: Enabling Next-Gen LLM Applications via Multi-Agent Conversation](https://arxiv.org/abs/2308.08155) by Wu et al., and the examples from [LangGraph](https://github.com/langchain-ai/langgraph/tree/main/examples/multi_agent). In this notebook, you will construct a Market Research Team and learn the following:\n",
        "\n",
        "- How to define tools for agents. You will use the following tools:\n",
        "\n",
        "  - [Exa](https://exa.ai/search), after account login, get your [API key here](https://docs.exa.ai/reference/getting-started-with-python). To find the exact content you're looking for on the web using embeddings-based search.  \n",
        "  - [SerpApi here](https://serpapi.com/), after account login, get your [API key](https://serpapi.com/dashboard) to do look for existing patents.\n",
        "  - [Python REPL](https://python.langchain.com/docs/integrations/tools/python/), please note that Python REPL can execute arbitrary code on the host machine (e.g., delete files, make network requests). Use with caution.\n",
        "  - Tools to access and write to a `.txt` file and create a plot of historical prices.\n",
        "- How to define utilities to help create the graph.\n",
        "- How to create a team supervisor and the team of agents.\n",
        "\n",
        "\n",
        "</br>\n",
        "\n",
        "## LangGraph\n",
        "You will be using [LangGraph](https://langchain-ai.github.io/langgraph/) for this. LangGraph is a library designed for building stateful, multi-actor applications with LLMs, facilitating the creation of agent and multi-agent workflows.\n",
        "\n",
        "LangGraph supports the definition of flows that involve `cycles`, which are crucial for most __agentic architectures__. It is a low-level framework and provides you, therefore, fine-grained control over both the flow and state of your application.\n",
        "\n",
        "LangGraph is inspired by [Pregel](https://research.google/pubs/pub37252/) and [Apache Beam](https://beam.apache.org/). The public interface draws inspiration from [NetworkX](https://networkx.org/documentation/latest/).\n",
        "\n",
        "</br>\n",
        "\n",
        "### Key Features\n",
        "\n",
        "- __Cycles and Branching__: Implement loops and conditionals in your apps.\n",
        "- __Persistence__: Automatically save state after each step in the graph. Pause and resume the graph execution at any point to support error recovery, human-in-the-loop workflows, time travel and more.\n",
        "- __Human-in-the-Loop__: Interrupt graph execution to approve or edit next action planned by the agent.\n",
        "- __Streaming Support__: Stream outputs as they are produced by each node (including token streaming).\n",
        "- __Integration with LangChain__: LangGraph integrates seamlessly with [LangChain](https://www.langchain.com/) and [LangSmith](https://docs.smith.langchain.com/), but does not require them."
      ]
    },
    {
      "cell_type": "markdown",
      "source": [
        "# Install Dependencies"
      ],
      "metadata": {
        "id": "TB0CJw6auXzz"
      },
      "id": "TB0CJw6auXzz"
    },
    {
      "cell_type": "code",
      "execution_count": null,
      "id": "0d30b6f7-3bec-4d9f-af50-43dfdc81ae6c",
      "metadata": {
        "ExecuteTime": {
          "end_time": "2024-05-15T08:19:42.364369Z",
          "start_time": "2024-05-15T08:19:42.359273Z"
        },
        "id": "0d30b6f7-3bec-4d9f-af50-43dfdc81ae6c",
        "colab": {
          "base_uri": "https://localhost:8080/"
        },
        "outputId": "9168fc68-4c14-492b-e41c-f44ffec6aa67"
      },
      "outputs": [
        {
          "output_type": "stream",
          "name": "stdout",
          "text": [
            "  Preparing metadata (setup.py) ... \u001b[?25l\u001b[?25hdone\n",
            "\u001b[2K   \u001b[90m━━━━━━━━━━━━━━━━━━━━━━━━━━━━━━━━━━━━━━━━\u001b[0m \u001b[32m990.6/990.6 kB\u001b[0m \u001b[31m13.5 MB/s\u001b[0m eta \u001b[36m0:00:00\u001b[0m\n",
            "\u001b[2K   \u001b[90m━━━━━━━━━━━━━━━━━━━━━━━━━━━━━━━━━━━━━━━━\u001b[0m \u001b[32m102.6/102.6 kB\u001b[0m \u001b[31m8.8 MB/s\u001b[0m eta \u001b[36m0:00:00\u001b[0m\n",
            "\u001b[2K   \u001b[90m━━━━━━━━━━━━━━━━━━━━━━━━━━━━━━━━━━━━━━━━\u001b[0m \u001b[32m2.3/2.3 MB\u001b[0m \u001b[31m61.4 MB/s\u001b[0m eta \u001b[36m0:00:00\u001b[0m\n",
            "\u001b[2K   \u001b[90m━━━━━━━━━━━━━━━━━━━━━━━━━━━━━━━━━━━━━━━━\u001b[0m \u001b[32m203.2/203.2 kB\u001b[0m \u001b[31m16.1 MB/s\u001b[0m eta \u001b[36m0:00:00\u001b[0m\n",
            "\u001b[2K   \u001b[90m━━━━━━━━━━━━━━━━━━━━━━━━━━━━━━━━━━━━━━━━\u001b[0m \u001b[32m48.2/48.2 kB\u001b[0m \u001b[31m4.1 MB/s\u001b[0m eta \u001b[36m0:00:00\u001b[0m\n",
            "\u001b[2K   \u001b[90m━━━━━━━━━━━━━━━━━━━━━━━━━━━━━━━━━━━━━━━━\u001b[0m \u001b[32m111.1/111.1 kB\u001b[0m \u001b[31m9.6 MB/s\u001b[0m eta \u001b[36m0:00:00\u001b[0m\n",
            "\u001b[2K   \u001b[90m━━━━━━━━━━━━━━━━━━━━━━━━━━━━━━━━━━━━━━━━\u001b[0m \u001b[32m397.1/397.1 kB\u001b[0m \u001b[31m30.6 MB/s\u001b[0m eta \u001b[36m0:00:00\u001b[0m\n",
            "\u001b[2K   \u001b[90m━━━━━━━━━━━━━━━━━━━━━━━━━━━━━━━━━━━━━━━━\u001b[0m \u001b[32m311.8/311.8 kB\u001b[0m \u001b[31m21.9 MB/s\u001b[0m eta \u001b[36m0:00:00\u001b[0m\n",
            "\u001b[2K   \u001b[90m━━━━━━━━━━━━━━━━━━━━━━━━━━━━━━━━━━━━━━━━\u001b[0m \u001b[32m1.2/1.2 MB\u001b[0m \u001b[31m48.1 MB/s\u001b[0m eta \u001b[36m0:00:00\u001b[0m\n",
            "\u001b[2K   \u001b[90m━━━━━━━━━━━━━━━━━━━━━━━━━━━━━━━━━━━━━━━━\u001b[0m \u001b[32m50.9/50.9 kB\u001b[0m \u001b[31m3.9 MB/s\u001b[0m eta \u001b[36m0:00:00\u001b[0m\n",
            "\u001b[2K   \u001b[90m━━━━━━━━━━━━━━━━━━━━━━━━━━━━━━━━━━━━━━━━\u001b[0m \u001b[32m96.0/96.0 kB\u001b[0m \u001b[31m7.6 MB/s\u001b[0m eta \u001b[36m0:00:00\u001b[0m\n",
            "\u001b[?25h  Building wheel for google-search-results (setup.py) ... \u001b[?25l\u001b[?25hdone\n",
            "\u001b[31mERROR: pip's dependency resolver does not currently take into account all the packages that are installed. This behaviour is the source of the following dependency conflicts.\n",
            "jupyter-server 1.24.0 requires anyio<4,>=3.1.0, but you have anyio 4.8.0 which is incompatible.\u001b[0m\u001b[31m\n",
            "\u001b[0m"
          ]
        }
      ],
      "source": [
        "!pip install -q langchain==0.2.12 \\\n",
        "                langgraph==0.1.19 \\\n",
        "                langchain_community==0.2.10 \\\n",
        "                langchain_experimental==0.0.63 \\\n",
        "                langchain_openai==0.1.20 \\\n",
        "                langchain_fireworks==0.1.7 \\\n",
        "                python-dotenv==1.0.1 \\\n",
        "                google-search-results==2.4.2 \\\n",
        "                exa-py==1.0.17"
      ]
    },
    {
      "cell_type": "markdown",
      "source": [
        "# Imports"
      ],
      "metadata": {
        "id": "nZPDfupfua2G"
      },
      "id": "nZPDfupfua2G"
    },
    {
      "cell_type": "code",
      "source": [
        "# Basic imports\n",
        "import os\n",
        "import functools\n",
        "import operator\n",
        "from tempfile import TemporaryDirectory\n",
        "from pathlib import Path\n",
        "from typing import Annotated, List, Dict, Optional\n",
        "from typing_extensions import TypedDict\n",
        "from exa_py import Exa\n",
        "import json\n",
        "import yfinance as yf\n",
        "import pandas as pd\n",
        "import numpy as np\n",
        "from datetime import datetime\n",
        "\n",
        "\n",
        "\n",
        "# LangChain & LangGraph imports\n",
        "from langchain_community.document_loaders import WebBaseLoader\n",
        "from langchain_community.tools.tavily_search import TavilySearchResults\n",
        "from langchain_core.tools import tool\n",
        "from langchain_core.messages import BaseMessage, HumanMessage\n",
        "from langchain_core.prompts import ChatPromptTemplate, MessagesPlaceholder\n",
        "from langchain_fireworks import ChatFireworks\n",
        "from langchain.agents import AgentExecutor, create_openai_functions_agent\n",
        "from langchain.output_parsers.openai_functions import JsonOutputFunctionsParser\n",
        "from langchain_openai import ChatOpenAI\n",
        "from langchain_openai.chat_models import ChatOpenAI\n",
        "from langgraph.graph import END, StateGraph, START\n",
        "from langchain_community.utilities import SerpAPIWrapper\n",
        "from langchain_experimental.utilities import PythonREPL\n",
        "\n",
        "\n",
        "# Display the graph\n",
        "from IPython.display import Image, display\n",
        "\n",
        "# API access\n",
        "from dotenv import load_dotenv\n",
        "load_dotenv()"
      ],
      "metadata": {
        "colab": {
          "base_uri": "https://localhost:8080/"
        },
        "id": "Vu5vb3uscLeW",
        "outputId": "90f83fb9-5361-47b3-e95c-b9780cfa63e1"
      },
      "id": "Vu5vb3uscLeW",
      "execution_count": null,
      "outputs": [
        {
          "output_type": "stream",
          "name": "stderr",
          "text": [
            "WARNING:langchain_community.utils.user_agent:USER_AGENT environment variable not set, consider setting it to identify your requests.\n"
          ]
        },
        {
          "output_type": "execute_result",
          "data": {
            "text/plain": [
              "True"
            ]
          },
          "metadata": {},
          "execution_count": 3
        }
      ]
    },
    {
      "cell_type": "markdown",
      "source": [
        "# API Setup"
      ],
      "metadata": {
        "id": "kid3L2N9fKpo"
      },
      "id": "kid3L2N9fKpo"
    },
    {
      "cell_type": "code",
      "execution_count": null,
      "id": "30c2f3de-c730-4aec-85a6-af2c2f058803",
      "metadata": {
        "ExecuteTime": {
          "end_time": "2024-05-15T08:19:42.395571Z",
          "start_time": "2024-05-15T08:19:42.365662Z"
        },
        "id": "30c2f3de-c730-4aec-85a6-af2c2f058803"
      },
      "outputs": [],
      "source": [
        "# Setup .env file via the terminal\n",
        "OPENAI_API_KEY = os.getenv('OPENAI_API_KEY')\n",
        "LANGCHAIN_API_KEY = os.getenv('LANGCHAIN_API_KEY')\n",
        "TAVILY_API_KEY = os.getenv('TAVILY_API_KEY')\n",
        "serp_api_key = os.getenv(\"SERPAPI_API_KEY\")\n",
        "exa_api_key = os.getenv(\"EXA_API_KEY\")\n",
        "\n",
        "\n",
        "# Uncomment if you want to use Nebius instead of OpenAI\n",
        "NEBIUS_API_KEY = os.getenv(\"NEBIUS_API_KEY\")"
      ]
    },
    {
      "cell_type": "code",
      "source": [
        "llm = ChatOpenAI(\n",
        "                model=\"meta-llama/Llama-3.3-70B-Instruct-fast\",\n",
        "                temperature=0,\n",
        "                max_tokens=None,\n",
        "                timeout=None,\n",
        "                max_retries=2,\n",
        "                api_key=NEBIUS_API_KEY,\n",
        "                base_url=\"https://api.studio.nebius.ai/v1/\"\n",
        "            )"
      ],
      "metadata": {
        "id": "j8G979zgs7L8"
      },
      "id": "j8G979zgs7L8",
      "execution_count": null,
      "outputs": []
    },
    {
      "cell_type": "code",
      "source": [
        "# Tracking via LangSmith\n",
        "LANGCHAIN_API_KEY = os.getenv(\"LANGCHAIN_API_KEY\")\n",
        "\n",
        "os.environ[\"LANGCHAIN_TRACING_V2\"] = \"true\"\n",
        "os.environ[\"LANGCHAIN_ENDPOINT\"] = \"https://api.smith.langchain.com\"\n",
        "\n",
        "\n",
        "###### ATT ######\n",
        "# The above API is for US-accounts, if you have an EU account you have use this one:\n",
        "# os.environ[\"LANGCHAIN_ENDPOINT\"] = \"https://eu.api.smith.langchain.com/\"\n",
        "\n",
        "\n",
        "project_name = \"CFEM Multi-Agents\"  # Update with your project name\n",
        "os.environ[\"LANGCHAIN_PROJECT\"] = project_name  # Optional: \"default\" is used if not set\n"
      ],
      "metadata": {
        "id": "KctPGpE45xIR"
      },
      "id": "KctPGpE45xIR",
      "execution_count": null,
      "outputs": []
    },
    {
      "cell_type": "markdown",
      "source": [
        "# Define a Persistent Working Directory"
      ],
      "metadata": {
        "id": "dGElI_24fO2B"
      },
      "id": "dGElI_24fO2B"
    },
    {
      "cell_type": "code",
      "source": [
        "# Define a persistent working directory\n",
        "WORKING_DIRECTORY = Path(\"/content/working_directory\")\n",
        "\n",
        "# Ensure the working directory exists\n",
        "if not WORKING_DIRECTORY.exists():\n",
        "    WORKING_DIRECTORY.mkdir(parents=True)\n",
        "    print(f\"Created working directory: {WORKING_DIRECTORY}\")\n",
        "else:\n",
        "    print(f\"Working directory already exists: {WORKING_DIRECTORY}\")\n"
      ],
      "metadata": {
        "colab": {
          "base_uri": "https://localhost:8080/"
        },
        "id": "s94e5urPfIk4",
        "outputId": "3eced7d4-a99a-4e52-b6b5-43831fc2d2d1"
      },
      "id": "s94e5urPfIk4",
      "execution_count": null,
      "outputs": [
        {
          "output_type": "stream",
          "name": "stdout",
          "text": [
            "Created working directory: /content/working_directory\n"
          ]
        }
      ]
    },
    {
      "cell_type": "markdown",
      "id": "354568e2-aef0-4af9-8a79-e64d3eea752f",
      "metadata": {
        "id": "354568e2-aef0-4af9-8a79-e64d3eea752f"
      },
      "source": [
        "# Create Tools\n",
        "\n",
        "Here you will create the tools for your agents. You can extend your agents [toolbox](https://python.langchain.com/v0.2/docs/concepts/#tools) as you wish.\n",
        "The `@tool` decorator is the simpliest way of defining a custom tool. Note that you __need__ to define a `docstring` as the tool's description.\n",
        "\n",
        "</br>\n",
        "\n",
        "__Note of caution__:\n",
        "\n",
        "The document writing and file-access tools gives your agents access to your file-system, this can be unsafe. Also, the `PythonREPL()` executes your code locally, this can introduce risks if you are not sandboxing it.\n"
      ]
    },
    {
      "cell_type": "code",
      "execution_count": null,
      "id": "f20a18ca-2709-4c12-84f3-88678591a9fa",
      "metadata": {
        "ExecuteTime": {
          "end_time": "2024-05-15T08:19:44.538421Z",
          "start_time": "2024-05-15T08:19:44.479132Z"
        },
        "id": "f20a18ca-2709-4c12-84f3-88678591a9fa"
      },
      "outputs": [],
      "source": [
        "########## Coding Tool ##########\n",
        "repl = PythonREPL()\n",
        "# Warning: This executes code locally, which can be unsafe when not sandboxed you can use\n",
        "# for instance with e2b code interpreter\n",
        "\n",
        "@tool\n",
        "def python_repl(\n",
        "    code: Annotated[str, \"The python code to execute to generate your chart.\"],\n",
        "):\n",
        "    \"\"\"Use this to execute python code. If you want to see the output of a value,\n",
        "    you should print it out with `print(...)`. This is visible to the user.\"\"\"\n",
        "    try:\n",
        "        result = repl.run(code)\n",
        "    except BaseException as e:\n",
        "        return f\"Failed to execute. Error: {repr(e)}\"\n",
        "    result_str = f\"Successfully executed:\\n```python\\n{code}\\n```\\nStdout: {result}\"\n",
        "    return (\n",
        "        result_str + \"\\n\\nIf you have completed all tasks, respond with FINAL ANSWER.\"\n",
        "    )\n",
        "\n",
        "########## Websearch Tools ##########\n",
        "@tool(\"finance_search\")\n",
        "def finance_search(query: str) -> str:\n",
        "    \"\"\"Search with Google SERP API by a query to Search Google for general\n",
        "    information related to finance and stocks about a given topic.\"\"\"\n",
        "    params = {\n",
        "        \"engine\": \"google\",\n",
        "        \"gl\": \"us\",\n",
        "        \"hl\": \"en\",\n",
        "        }\n",
        "    finance_search = SerpAPIWrapper(params=params, serpapi_api_key=serp_api_key)\n",
        "    return finance_search.run(query)\n",
        "\n",
        "\n",
        "@tool(\"exa_search\")\n",
        "def exa_search(question: str) -> str:\n",
        "    \"\"\"Tool using Exa's Python SDK to run semantic search and return result highlights.\"\"\"\n",
        "    exa = Exa(exa_api_key)\n",
        "\n",
        "    response = exa.search_and_contents(\n",
        "        question,\n",
        "        type=\"neural\",\n",
        "        use_autoprompt=True,\n",
        "        num_results=3,\n",
        "        highlights=True\n",
        "    )\n",
        "\n",
        "    results = []\n",
        "    for idx, eachResult in enumerate(response.results):\n",
        "        result = {\n",
        "            \"Title\": eachResult.title,\n",
        "            \"URL\": eachResult.url,\n",
        "            \"Highlight\": \"\".join(eachResult.highlights)\n",
        "        }\n",
        "        results.append(result)\n",
        "\n",
        "    return json.dumps(results)\n",
        "\n",
        "\n",
        "########## Analysis Tools ##########\n",
        "\n",
        "def compute_tech_indicators(data, value):\n",
        "    # Compute 10 and 30 days Moving Averages\n",
        "    data['ma10'] = data[value].rolling(window=10).mean()\n",
        "    data['ma30'] = data[value].rolling(window=30).mean()\n",
        "\n",
        "    # Create MACD with shorter windows\n",
        "    data['13ema'] = data[value].ewm(span=13).mean()\n",
        "    data['6ema'] = data[value].ewm(span=6).mean()\n",
        "    data['MACD'] = data['6ema'] - data['13ema']\n",
        "\n",
        "    # Ensure `MACD` calculation is done before creating `MACD_Signal`\n",
        "    data['MACD_Signal'] = create_MACD_signal(data['MACD'])\n",
        "\n",
        "    # Create Exponential Moving Average (shorter window)\n",
        "    data['ema'] = data[value].ewm(com=0.3).mean()\n",
        "\n",
        "    # Create Momentum\n",
        "    data['momentum'] = (data[value] / 100) - 1\n",
        "\n",
        "    # RSI\n",
        "    delta = data[value].diff()\n",
        "    gain = delta.where(delta > 0, 0).rolling(window=7).mean()\n",
        "    loss = (-delta.where(delta < 0, 0)).rolling(window=7).mean()\n",
        "    rs = gain / loss\n",
        "    data['RSI'] = 100 - (100 / (1 + rs))\n",
        "\n",
        "    return data\n",
        "\n",
        "def create_MACD_signal(macd_series):\n",
        "    macd_sign = np.sign(macd_series)\n",
        "    macd_shifted_sign = macd_sign.shift(1)\n",
        "    return macd_sign * (macd_sign != macd_shifted_sign)\n",
        "\n",
        "def generate_MA_crossing(data, value, s_window=20, l_window=50):\n",
        "    data['short_MA'] = data[value].rolling(window=s_window).mean()\n",
        "    data['long_MA'] = data[value].rolling(window=l_window).mean()\n",
        "    data['short_MA-long_MA'] = data['short_MA'] - data['long_MA']\n",
        "    data['Signal'] = np.where(data['short_MA-long_MA'] > 0, 1, 0)\n",
        "    data['Signal'] = np.where(data['short_MA-long_MA'] < 0, -1, data['Signal'])\n",
        "    data['Trading'] = np.sign(data['Signal'] - data['Signal'].shift(1))\n",
        "    return data\n",
        "\n",
        "\n",
        "@tool(\"yf_fundamental_analysis\")\n",
        "def yf_fundamental_analysis(ticker: str):\n",
        "    \"\"\"\n",
        "        Perform a comprehensive fundamental analysis on the given stock symbol {stock}.\n",
        "\n",
        "        Args:\n",
        "            stock_symbol (str): The stock symbol to analyze.\n",
        "\n",
        "        Returns:\n",
        "            dict: A dictionary with the detailed fundamental analysis results.\n",
        "    \"\"\"\n",
        "    try:\n",
        "        stock = yf.Ticker(ticker)\n",
        "        info = stock.info\n",
        "\n",
        "        # Data processing\n",
        "        financials = stock.financials.infer_objects(copy=False)\n",
        "        balance_sheet = stock.balance_sheet.infer_objects(copy=False)\n",
        "        cash_flow = stock.cashflow.infer_objects(copy=False)\n",
        "\n",
        "        # Fill missing values\n",
        "        financials = financials.ffill()\n",
        "        balance_sheet = balance_sheet.ffill()\n",
        "        cash_flow = cash_flow.ffill()\n",
        "\n",
        "        # Key Ratios and Metrics\n",
        "        ratios = {\n",
        "            \"P/E Ratio\": info.get('trailingPE'),\n",
        "            \"Forward P/E\": info.get('forwardPE'),\n",
        "            \"P/B Ratio\": info.get('priceToBook'),\n",
        "            \"P/S Ratio\": info.get('priceToSalesTrailing12Months'),\n",
        "            \"PEG Ratio\": info.get('pegRatio'),\n",
        "            \"Debt to Equity\": info.get('debtToEquity'),\n",
        "            \"Current Ratio\": info.get('currentRatio'),\n",
        "            \"Quick Ratio\": info.get('quickRatio'),\n",
        "            \"ROE\": info.get('returnOnEquity'),\n",
        "            \"ROA\": info.get('returnOnAssets'),\n",
        "            \"ROIC\": info.get('returnOnCapital'),\n",
        "            \"Gross Margin\": info.get('grossMargins'),\n",
        "            \"Operating Margin\": info.get('operatingMargins'),\n",
        "            \"Net Profit Margin\": info.get('profitMargins'),\n",
        "            \"Dividend Yield\": info.get('dividendYield'),\n",
        "            \"Payout Ratio\": info.get('payoutRatio'),\n",
        "        }\n",
        "\n",
        "        # Growth Rates\n",
        "        revenue = financials.loc['Total Revenue']\n",
        "        net_income = financials.loc['Net Income']\n",
        "        revenue_growth = revenue.pct_change(periods=-1).iloc[0] if len(revenue) > 1 else None\n",
        "        net_income_growth = net_income.pct_change(periods=-1).iloc[0] if len(net_income) > 1 else None\n",
        "\n",
        "        growth_rates = {\n",
        "            \"Revenue Growth (YoY)\": revenue_growth,\n",
        "            \"Net Income Growth (YoY)\": net_income_growth,\n",
        "        }\n",
        "\n",
        "        # Valuation\n",
        "        market_cap = info.get('marketCap')\n",
        "        enterprise_value = info.get('enterpriseValue')\n",
        "\n",
        "        valuation = {\n",
        "            \"Market Cap\": market_cap,\n",
        "            \"Enterprise Value\": enterprise_value,\n",
        "            \"EV/EBITDA\": info.get('enterpriseToEbitda'),\n",
        "            \"EV/Revenue\": info.get('enterpriseToRevenue'),\n",
        "        }\n",
        "\n",
        "        # Future Estimates\n",
        "        estimates = {\n",
        "            \"Next Year EPS Estimate\": info.get('forwardEps'),\n",
        "            \"Next Year Revenue Estimate\": info.get('revenueEstimates', {}).get('avg'),\n",
        "            \"Long-term Growth Rate\": info.get('longTermPotentialGrowthRate'),\n",
        "        }\n",
        "\n",
        "        # Simple DCF Valuation (very basic)\n",
        "        free_cash_flow = cash_flow.loc['Free Cash Flow'].iloc[0] if 'Free Cash Flow' in cash_flow.index else None\n",
        "        wacc = 0.1  # Assumed Weighted Average Cost of Capital\n",
        "        growth_rate = info.get('longTermPotentialGrowthRate', 0.03)\n",
        "\n",
        "        def simple_dcf(fcf, growth_rate, wacc, years=5):\n",
        "            if fcf is None or growth_rate is None:\n",
        "                return None\n",
        "            terminal_value = fcf * (1 + growth_rate) / (wacc - growth_rate)\n",
        "            dcf_value = sum([fcf * (1 + growth_rate) ** i / (1 + wacc) ** i for i in range(1, years + 1)])\n",
        "            dcf_value += terminal_value / (1 + wacc) ** years\n",
        "            return dcf_value\n",
        "\n",
        "        dcf_value = simple_dcf(free_cash_flow, growth_rate, wacc)\n",
        "\n",
        "        # Prepare the results\n",
        "        analysis = {\n",
        "            \"Company Name\": info.get('longName'),\n",
        "            \"Sector\": info.get('sector'),\n",
        "            \"Industry\": info.get('industry'),\n",
        "            \"Key Ratios\": ratios,\n",
        "            \"Growth Rates\": growth_rates,\n",
        "            \"Valuation Metrics\": valuation,\n",
        "            \"Future Estimates\": estimates,\n",
        "            \"Simple DCF Valuation\": dcf_value,\n",
        "            \"Last Updated\": datetime.fromtimestamp(info.get('lastFiscalYearEnd', 0)).strftime('%Y-%m-%d'),\n",
        "            \"Data Retrieval Date\": datetime.now().strftime('%Y-%m-%d'),\n",
        "        }\n",
        "\n",
        "        # Add interpretations\n",
        "        interpretations = {\n",
        "            \"P/E Ratio\": \"High P/E might indicate overvaluation or high growth expectations\" if ratios.get('P/E Ratio', 0) > 20 else \"Low P/E might indicate undervaluation or low growth expectations\",\n",
        "            \"Debt to Equity\": \"High leverage\" if ratios.get('Debt to Equity', 0) > 2 else \"Conservative capital structure\",\n",
        "            \"ROE\": \"Strong returns\" if ratios.get('ROE', 0) > 0.15 else \"Potential profitability issues\",\n",
        "            \"Revenue Growth\": \"Strong growth\" if growth_rates.get('Revenue Growth (YoY)', 0) > 0.1 else \"Slowing growth\",\n",
        "        }\n",
        "\n",
        "        analysis[\"Interpretations\"] = interpretations\n",
        "\n",
        "        return analysis\n",
        "\n",
        "    except Exception as e:\n",
        "        return f\"An error occurred during the analysis: {str(e)}\"\n",
        "\n",
        "\n",
        "@tool(\"yf_tech_analysis\")\n",
        "def yf_tech_analysis(stock_symbol: str, period: str = \"1y\"):\n",
        "    \"\"\"\n",
        "        Perform a comprehensive technical analysis on the given stock symbol {stock}.\n",
        "\n",
        "        Args:\n",
        "            stock_symbol (str): The stock symbol to analyze.\n",
        "            period (str, optional): The time period for analysis. Defaults to \"1y\".\n",
        "\n",
        "        Returns:\n",
        "            analysis_results_df: pandas dataframe, interpretation: dictionary\n",
        "    \"\"\"\n",
        "\n",
        "\n",
        "    data = yf.download(stock_symbol, period=period)\n",
        "    print(\"Initial data NaNs:\\n\", data.isna().sum())\n",
        "\n",
        "    # Calculate indicators and diagnose NaNs\n",
        "    data = compute_tech_indicators(data, 'Close')\n",
        "    data = generate_MA_crossing(data, 'Close')\n",
        "\n",
        "    # Forward-fill to handle NaNs due to rolling calculations\n",
        "    data[['ma10', 'ma30', 'short_MA', 'long_MA']] = data[['ma10', 'ma30', 'short_MA', 'long_MA']].ffill()\n",
        "\n",
        "    # Drop remaining rows with NaNs\n",
        "    data = data.dropna()\n",
        "    if data.empty:\n",
        "        raise ValueError(\"Insufficient data after calculations. Increase the period or decrease indicator windows.\")\n",
        "\n",
        "    # Create DataFrame for `analysis_results`\n",
        "    analysis_results_df = pd.DataFrame({\n",
        "        'Current_Price': [data['Close'].iloc[-1]],\n",
        "        '10_MA': [data['ma10'].iloc[-1]],\n",
        "        '30_MA': [data['ma30'].iloc[-1]],\n",
        "        'Short_MA': [data['short_MA'].iloc[-1]],\n",
        "        'Long_MA': [data['long_MA'].iloc[-1]],\n",
        "        '6_EMA': [data['6ema'].iloc[-1]],\n",
        "        '13_EMA': [data['13ema'].iloc[-1]],\n",
        "        'EMA': [data['ema'].iloc[-1]],\n",
        "        'MACD_Value': [data['MACD'].iloc[-1]],\n",
        "        'MACD_Signal': [data['MACD_Signal'].iloc[-1]],\n",
        "        'RSI': [data['RSI'].iloc[-1]],\n",
        "        'Momentum': [data['momentum'].iloc[-1]],\n",
        "        'MA_Crossing_Signal': [data['Signal'].iloc[-1]],\n",
        "        'Trading_Action': [data['Trading'].iloc[-1]]\n",
        "    })\n",
        "\n",
        "    # Convert the last values to scalars to avoid ambiguity\n",
        "    latest_close = data['Close'].iloc[-1].item() if hasattr(data['Close'].iloc[-1], 'item') else data['Close'].iloc[-1]\n",
        "    latest_ma30 = data['ma30'].iloc[-1].item() if hasattr(data['ma30'].iloc[-1], 'item') else data['ma30'].iloc[-1]\n",
        "    latest_macd = data['MACD'].iloc[-1].item() if hasattr(data['MACD'].iloc[-1], 'item') else data['MACD'].iloc[-1]\n",
        "    latest_rsi = data['RSI'].iloc[-1].item() if hasattr(data['RSI'].iloc[-1], 'item') else data['RSI'].iloc[-1]\n",
        "\n",
        "    # Interpretation\n",
        "    interpretation = {\n",
        "        'Trend': 'Bullish' if latest_close > latest_ma30 else 'Bearish',\n",
        "        'RSI': 'Overbought' if latest_rsi > 70 else ('Oversold' if latest_rsi < 30 else 'Neutral'),\n",
        "        'MACD': 'Bullish' if latest_macd > 0 else 'Bearish'\n",
        "    }\n",
        "\n",
        "    return analysis_results_df, interpretation\n",
        "\n",
        "\n",
        "########## Document Tools ##########\n",
        "@tool\n",
        "def create_outline(\n",
        "    points: Annotated[List[str], \"List of main points or sections.\"],\n",
        "    file_name: Annotated[str, \"File path to save the outline.\"],\n",
        ") -> Annotated[str, \"Path of the saved outline file.\"]:\n",
        "    \"\"\"Create and save an outline.\"\"\"\n",
        "    with (WORKING_DIRECTORY / file_name).open(\"w\") as file:\n",
        "        for i, point in enumerate(points):\n",
        "            file.write(f\"{i + 1}. {point}\\n\")\n",
        "    return f\"Outline saved to {file_name}\"\n",
        "\n",
        "\n",
        "@tool\n",
        "def read_document(\n",
        "    file_name: Annotated[str, \"File path to save the document.\"],\n",
        "    start: Annotated[Optional[int], \"The start line. Default is 0\"] = None,\n",
        "    end: Annotated[Optional[int], \"The end line. Default is None\"] = None,\n",
        ") -> str:\n",
        "    \"\"\"Read the specified document.\"\"\"\n",
        "    with (WORKING_DIRECTORY / file_name).open(\"r\") as file:\n",
        "        lines = file.readlines()\n",
        "    if start is not None:\n",
        "        start = 0\n",
        "    return \"\\n\".join(lines[start:end])\n",
        "\n",
        "\n",
        "@tool\n",
        "def write_document(\n",
        "    content: Annotated[str, \"Text content to be written into the document.\"],\n",
        "    file_name: Annotated[str, \"File path to save the document.\"],\n",
        ") -> Annotated[str, \"Path of the saved document file.\"]:\n",
        "    \"\"\"Create and save a text document.\"\"\"\n",
        "    with (WORKING_DIRECTORY / file_name).open(\"w\") as file:\n",
        "        file.write(content)\n",
        "    return f\"Document saved to {file_name}\"\n",
        "\n",
        "\n",
        "@tool\n",
        "def edit_document(\n",
        "    file_name: Annotated[str, \"Path of the document to be edited.\"],\n",
        "    inserts: Annotated[\n",
        "        Dict[int, str],\n",
        "        \"Dictionary where key is the line number (1-indexed) and value is the text to be inserted at that line.\",\n",
        "    ],\n",
        ") -> Annotated[str, \"Path of the edited document file.\"]:\n",
        "    \"\"\"Edit a document by inserting text at specific line numbers.\"\"\"\n",
        "\n",
        "    with (WORKING_DIRECTORY / file_name).open(\"r\") as file:\n",
        "        lines = file.readlines()\n",
        "\n",
        "    sorted_inserts = sorted(inserts.items())\n",
        "\n",
        "    for line_number, text in sorted_inserts:\n",
        "        if 1 <= line_number <= len(lines) + 1:\n",
        "            lines.insert(line_number - 1, text + \"\\n\")\n",
        "        else:\n",
        "            return f\"Error: Line number {line_number} is out of range.\"\n",
        "\n",
        "    with (WORKING_DIRECTORY / file_name).open(\"w\") as file:\n",
        "        file.writelines(lines)\n",
        "\n",
        "    return f\"Document edited and saved to {file_name}\"\n"
      ]
    },
    {
      "cell_type": "markdown",
      "source": [
        "# Create Agent and Team Supervisor"
      ],
      "metadata": {
        "id": "KgRKzT2uiS96"
      },
      "id": "KgRKzT2uiS96"
    },
    {
      "cell_type": "code",
      "execution_count": null,
      "id": "e09fb60f-1aac-455b-b67d-8d2e4ccfd747",
      "metadata": {
        "ExecuteTime": {
          "end_time": "2024-05-15T08:19:46.559082Z",
          "start_time": "2024-05-15T08:19:44.541330Z"
        },
        "id": "e09fb60f-1aac-455b-b67d-8d2e4ccfd747"
      },
      "outputs": [],
      "source": [
        "def create_agent(\n",
        "    llm: ChatOpenAI,\n",
        "    tools: list,\n",
        "    system_prompt: str,\n",
        ") -> str:\n",
        "    \"\"\"Create a function-calling agent and add it to the graph.\"\"\"\n",
        "    system_prompt += \"\\nWork autonomously according to your specialty, using the tools available to you.\"\n",
        "    \" Do not ask for clarification.\"\n",
        "    \" Your other team members (and other teams) will collaborate with you with their own specialties.\"\n",
        "    \" You are chosen for a reason! You are one of the following team members: {team_members}.\"\n",
        "    prompt = ChatPromptTemplate.from_messages(\n",
        "        [\n",
        "            (\n",
        "                \"system\",\n",
        "                system_prompt,\n",
        "            ),\n",
        "            MessagesPlaceholder(variable_name=\"messages\"),\n",
        "            MessagesPlaceholder(variable_name=\"agent_scratchpad\"),\n",
        "        ]\n",
        "    )\n",
        "    agent = create_openai_functions_agent(llm, tools, prompt)\n",
        "    executor = AgentExecutor(agent=agent, tools=tools, handle_parsing_errors=True)\n",
        "    return executor\n",
        "\n",
        "\n",
        "def agent_node(state, agent, name):\n",
        "    result = agent.invoke(state)\n",
        "    return {\"messages\": [HumanMessage(content=result[\"output\"], name=name)]}\n",
        "\n",
        "\n",
        "def create_team_supervisor(llm: ChatOpenAI, system_prompt, members) -> str:\n",
        "    \"\"\"An LLM-based router.\"\"\"\n",
        "    options = [\"FINISH\"] + members\n",
        "    function_def = {\n",
        "        \"name\": \"route\",\n",
        "        \"description\": \"Select the next role.\",\n",
        "        \"parameters\": {\n",
        "            \"title\": \"routeSchema\",\n",
        "            \"type\": \"object\",\n",
        "            \"properties\": {\n",
        "                \"next\": {\n",
        "                    \"title\": \"Next\",\n",
        "                    \"anyOf\": [\n",
        "                        {\"enum\": options},\n",
        "                    ],\n",
        "                },\n",
        "            },\n",
        "            \"required\": [\"next\"],\n",
        "        },\n",
        "    }\n",
        "    prompt = ChatPromptTemplate.from_messages(\n",
        "        [\n",
        "            (\"system\", system_prompt),\n",
        "            MessagesPlaceholder(variable_name=\"messages\"),\n",
        "            (\n",
        "                \"system\",\n",
        "                \"Given the conversation above, who should act next?\"\n",
        "                \" Or should we FINISH? Select one of: {options}\",\n",
        "            ),\n",
        "        ]\n",
        "    ).partial(options=str(options), team_members=\", \".join(members))\n",
        "    return (\n",
        "        prompt\n",
        "        | llm.bind_functions(functions=[function_def], function_call=\"route\")\n",
        "        | JsonOutputFunctionsParser()\n",
        "    )"
      ]
    },
    {
      "cell_type": "markdown",
      "source": [
        "# Create the Agents and Graph\n",
        "\n",
        "Here you create the agents you can also combine different LLMs to do your tasks. This might be beneficial because for specific tasks some LLMs might perform better than others or be less costly than others.\n",
        "\n",
        "First you have to define the `graph state`. And then you can create your agents which can access the tools created before.\n",
        "\n",
        "**State**: A shared data structure that represents the current snapshot of an application. It can be any Python type, but is typically a TypedDict or Pydantic BaseModel.\n"
      ],
      "metadata": {
        "id": "TUaAJZEdjB__"
      },
      "id": "TUaAJZEdjB__"
    },
    {
      "cell_type": "markdown",
      "source": [
        "## Define Graph State"
      ],
      "metadata": {
        "id": "QdvIfNFCr21m"
      },
      "id": "QdvIfNFCr21m"
    },
    {
      "cell_type": "code",
      "source": [
        "# Define team graph state\n",
        "class FinanceTeamState(TypedDict):\n",
        "    # This tracks the team's conversation internally\n",
        "    messages: Annotated[List[BaseMessage], operator.add]\n",
        "    # This provides each worker with context on the others' skill sets\n",
        "    team_members: str\n",
        "    # This is how the supervisor tells langgraph who has to work next\n",
        "    next: str\n",
        "    # This tracks the shared directory state\n",
        "    current_files: str"
      ],
      "metadata": {
        "id": "w4IwTYXuqDtW"
      },
      "id": "w4IwTYXuqDtW",
      "execution_count": null,
      "outputs": []
    },
    {
      "cell_type": "markdown",
      "source": [
        "Next, you have a helper function that will run before each worker agent begins their task. This function ensures that the agents are more aware of the current state of the working directory.\n"
      ],
      "metadata": {
        "id": "QXjXgiOBsCs3"
      },
      "id": "QXjXgiOBsCs3"
    },
    {
      "cell_type": "markdown",
      "source": [
        "## Helper Function for Dictory Access"
      ],
      "metadata": {
        "id": "lTdZSaOvrv6U"
      },
      "id": "lTdZSaOvrv6U"
    },
    {
      "cell_type": "code",
      "source": [
        "def prelude(state):\n",
        "    \"\"\"\n",
        "    A helper function that prepares the state for each worker agent by ensuring the working directory exists\n",
        "    and listing the files present in it.\n",
        "\n",
        "    Args:\n",
        "        state (dict): The current state to be updated with information about the files in the working directory.\n",
        "\n",
        "    Returns:\n",
        "        dict: The updated state with a key \"current_files\" containing a message about the files in the directory.\n",
        "              If no files are present, the message will indicate that no files have been written.\n",
        "    \"\"\"\n",
        "\n",
        "    written_files = []\n",
        "    if not WORKING_DIRECTORY.exists():\n",
        "        WORKING_DIRECTORY.mkdir(parents=True)\n",
        "    try:\n",
        "        written_files = [\n",
        "            f.relative_to(WORKING_DIRECTORY) for f in WORKING_DIRECTORY.rglob(\"*\")\n",
        "            if f.is_file()\n",
        "        ]\n",
        "    except Exception as e:\n",
        "        print(f\"Error reading files: {e}\")\n",
        "    if not written_files:\n",
        "        return {**state, \"current_files\": \"No files written.\"}\n",
        "    return {\n",
        "        **state,\n",
        "        \"current_files\": \"\\nBelow are files your team has written to the directory:\\n\"\n",
        "        + \"\\n\".join([f\" - {f}\" for f in written_files]),\n",
        "    }"
      ],
      "metadata": {
        "id": "xbeCH38vqF0w"
      },
      "id": "xbeCH38vqF0w",
      "execution_count": null,
      "outputs": []
    },
    {
      "cell_type": "markdown",
      "source": [],
      "metadata": {
        "id": "638H7DM23Nu0"
      },
      "id": "638H7DM23Nu0"
    },
    {
      "cell_type": "markdown",
      "source": [
        "# Init LLM"
      ],
      "metadata": {
        "id": "zvJ38bsFrr7z"
      },
      "id": "zvJ38bsFrr7z"
    },
    {
      "cell_type": "markdown",
      "source": [
        "Now you can initialize your LLM. You can also use another LLM, for instance via [Fireworks](https://fireworks.ai/) works seemlessly with this LangGraph setting instead of OpenAI. For this, you just need to get the API key and if you want to use, for instance, the `Llama 3.1 70B` model, you how have to initialize your LLM as follows:\n",
        "\n",
        "```python\n",
        "from langchain_fireworks import ChatFireworks\n",
        "\n",
        "llm = ChatFireworks(\n",
        "    model=\"accounts/fireworks/models/llama-v3p1-70b-instruct\",\n",
        "    temperature=0\n",
        ")\n"
      ],
      "metadata": {
        "id": "CUGGCtiJumoN"
      },
      "id": "CUGGCtiJumoN"
    },
    {
      "cell_type": "code",
      "source": [
        "######## Initialize the LLM ########\n",
        "llm = ChatOpenAI(model=\"gpt-4o\")"
      ],
      "metadata": {
        "id": "_NKCBUIbroO5"
      },
      "id": "_NKCBUIbroO5",
      "execution_count": null,
      "outputs": []
    },
    {
      "cell_type": "markdown",
      "source": [
        "# Define the Agents"
      ],
      "metadata": {
        "id": "71WyoKY0s6xk"
      },
      "id": "71WyoKY0s6xk"
    },
    {
      "cell_type": "markdown",
      "source": [
        "__ATT:__ We to escape the curly braces, that is, we have to wrap the placeholder in double curly braces `{{Stock}}` so it’s not mistaken for a variable in ChatPromptTemplate. With this, the stock will be treated as part of the prompt text rather than requiring an actual variable input."
      ],
      "metadata": {
        "id": "A_71gEeCMPlz"
      },
      "id": "A_71gEeCMPlz"
    },
    {
      "cell_type": "code",
      "execution_count": null,
      "id": "1bcdbf44-9481-430c-8429-fa142ed8a626",
      "metadata": {
        "ExecuteTime": {
          "end_time": "2024-05-15T08:19:53.677722Z",
          "start_time": "2024-05-15T08:19:51.953933Z"
        },
        "id": "1bcdbf44-9481-430c-8429-fa142ed8a626"
      },
      "outputs": [],
      "source": [
        "exa_search_agent = create_agent(\n",
        "    llm,\n",
        "    [exa_search],\n",
        "    \"\"\"As a seasoned investment strategist with 20 years of experience, you weave\n",
        "    complex financial data into compelling investment narratives,\n",
        "    your response should clearly articulate the key points you found on {{stock_symbol}} and this {{date}}.\"\"\",\n",
        ")\n",
        "exa_search_node = functools.partial(agent_node, agent=exa_search_agent, name=\"ExaSearch\")\n",
        "\n",
        "\n",
        "finance_search_agent = create_agent(\n",
        "    llm,\n",
        "    [finance_search],\n",
        "    \"\"\"As a seasoned investment strategist with 20 years of experience, you weave\n",
        "    complex financial data into compelling investment narratives on {{stock_symbol}} and this {{date}}.\"\"\",\n",
        ")\n",
        "finance_search_node = functools.partial(agent_node, agent=finance_search_agent, name=\"FinanceSearch\")\n",
        "\n",
        "\n",
        "fundamental_analysis_agent = create_agent(\n",
        "    llm,\n",
        "    [yf_fundamental_analysis],\n",
        "    \"\"\"With a CFA charter and over 20 years of experience in investing,\n",
        "    you dissect financial statements and identify key value drivers on {{stock_symbol}} and this {{date}}.\"\"\",\n",
        ")\n",
        "fundamental_analysis_node = functools.partial(agent_node, agent=fundamental_analysis_agent, name=\"FinanceAnalysis\")\n",
        "\n",
        "tech_analysis_agent = create_agent(\n",
        "    llm,\n",
        "    [yf_tech_analysis],\n",
        "    \"\"\"You are Chartered Market Technician (CMT) with 25 years of experience,\n",
        "    you have a keen eye for market trends and patterns on {{stock_symbol}} and this {{date}}.\"\"\",\n",
        ")\n",
        "tech_analysis_node = functools.partial(agent_node, agent=tech_analysis_agent, name=\"TechnicalAnalysis\")\n",
        "\n",
        "\n",
        "chart_agent = create_agent(\n",
        "    llm,\n",
        "    [python_repl],\n",
        "    \"\"\"You are a Quant Developer and can write code to plot any charts requested.\"\"\",\n",
        ")\n",
        "chart_node = functools.partial(agent_node, agent=chart_agent, name=\"ChartGenerator\")\n",
        "\n",
        "doc_writer_agent = create_agent(\n",
        "    llm,\n",
        "    [write_document, edit_document, read_document],\n",
        "    \"\"\"You are a Chief Investment Strategist, who synthesize all analyses to create\n",
        "    a definitive investment report on {{stock_symbol}}.\n",
        "    \\n\"\"\",\n",
        ")\n",
        "\n",
        "# Injects current directory working state before each call\n",
        "context_aware_doc_writer_agent = prelude | doc_writer_agent\n",
        "doc_writing_node = functools.partial(\n",
        "    agent_node, agent=context_aware_doc_writer_agent, name=\"DocWriter\"\n",
        ")\n",
        "\n",
        "investment_analysis_supervisor = create_team_supervisor(\n",
        "    llm,\n",
        "    \"You are a supervisor tasked with managing a conversation between the\"\n",
        "    \" following workers:  {team_members}. Given the following user request,\"\n",
        "    \" respond with the worker to act next. Each worker will perform a\"\n",
        "    \" task and respond with their results and status. When finished,\"\n",
        "    \" respond with FINISH.\",\n",
        "    [\"DocWriter\", \"ExaSearch\", \"FinanceSearch\", \"FinanceAnalysis\", \"TechnicalAnalysis\", \"ChartGenerator\" ,\"DocWriter\"],\n",
        ")"
      ]
    },
    {
      "cell_type": "markdown",
      "id": "aee2cd9b-29aa-458e-903d-4e49179e5d59",
      "metadata": {
        "id": "aee2cd9b-29aa-458e-903d-4e49179e5d59"
      },
      "source": [
        "## Create the Graph"
      ]
    },
    {
      "cell_type": "markdown",
      "source": [
        "- **Nodes**: Functions that encode the logic of the agents. They receive the current state as input, perform some computation or side-effect, and return an updated state.\n",
        "- **Edges**: Functions that determine which node to execute next based on the current state. They can be conditional branches or fixed transitions."
      ],
      "metadata": {
        "id": "sVyL0MOPuiss"
      },
      "id": "sVyL0MOPuiss"
    },
    {
      "cell_type": "code",
      "execution_count": null,
      "id": "9c5c644f-8966-4d2e-98d2-80d73520e9fe",
      "metadata": {
        "ExecuteTime": {
          "end_time": "2024-05-15T08:19:53.693123Z",
          "start_time": "2024-05-15T08:19:53.678906Z"
        },
        "id": "9c5c644f-8966-4d2e-98d2-80d73520e9fe"
      },
      "outputs": [],
      "source": [
        "# Create the graph\n",
        "financial_graph = StateGraph(FinanceTeamState)\n",
        "financial_graph.add_node(\"DocWriter\", doc_writing_node)\n",
        "financial_graph.add_node(\"ExaSearch\", exa_search_node)\n",
        "financial_graph.add_node(\"FinanceSearch\", finance_search_node)\n",
        "financial_graph.add_node(\"FinanceAnalysis\", fundamental_analysis_node)\n",
        "financial_graph.add_node(\"TechnicalAnalysis\", tech_analysis_node)\n",
        "financial_graph.add_node(\"ChartGenerator\", chart_node)\n",
        "financial_graph.add_node(\"supervisor\", investment_analysis_supervisor)\n",
        "\n",
        "# Add the edges\n",
        "financial_graph.add_edge(\"DocWriter\", \"supervisor\")\n",
        "financial_graph.add_edge(\"ExaSearch\", \"supervisor\")\n",
        "financial_graph.add_edge(\"FinanceSearch\", \"supervisor\")\n",
        "financial_graph.add_edge(\"FinanceAnalysis\", \"supervisor\")\n",
        "financial_graph.add_edge(\"ChartGenerator\", \"supervisor\")\n",
        "financial_graph.add_edge(\"TechnicalAnalysis\", \"supervisor\")\n",
        "\n",
        "# Add the edges where routing applies\n",
        "financial_graph.add_conditional_edges(\n",
        "    \"supervisor\",\n",
        "    lambda x: x[\"next\"],\n",
        "    {\n",
        "        \"DocWriter\": \"DocWriter\",\n",
        "        \"FinanceSearch\": \"FinanceSearch\",\n",
        "        \"FinanceAnalysis\": \"FinanceAnalysis\",\n",
        "        \"TechnicalAnalysis\": \"TechnicalAnalysis\",\n",
        "        \"ChartGenerator\": \"ChartGenerator\",\n",
        "        \"ExaSearch\": \"ExaSearch\",\n",
        "        \"FINISH\": END,\n",
        "    },\n",
        ")\n",
        "\n",
        "financial_graph.add_edge(START, \"supervisor\")\n",
        "chain = financial_graph.compile()\n",
        "\n",
        "\n",
        "# The following functions interoperate between the top level graph state\n",
        "# and the state of the sub-graph\n",
        "# this makes it so that the states of each graph don't get intermixed\n",
        "def enter_chain(message: str, members: List[str]):\n",
        "    results = {\n",
        "        \"messages\": [HumanMessage(content=message)],\n",
        "        \"team_members\": \", \".join(members),\n",
        "    }\n",
        "    return results\n",
        "\n",
        "financial_chain = (\n",
        "    functools.partial(enter_chain, members=financial_graph.nodes)\n",
        "    | financial_graph.compile()\n",
        ")\n"
      ]
    },
    {
      "cell_type": "code",
      "execution_count": null,
      "id": "58e7d1e48a9c39a5",
      "metadata": {
        "ExecuteTime": {
          "end_time": "2024-05-15T08:32:13.913188Z",
          "start_time": "2024-05-15T08:32:11.598993Z"
        },
        "colab": {
          "base_uri": "https://localhost:8080/",
          "height": 290
        },
        "id": "58e7d1e48a9c39a5",
        "outputId": "8f9a27b6-ced7-474c-a1a9-ba9858553bb9"
      },
      "outputs": [
        {
          "output_type": "display_data",
          "data": {
            "image/jpeg": "[encoded data removed]",
            "text/plain": [
              "<IPython.core.display.Image object>"
            ]
          },
          "metadata": {}
        }
      ],
      "source": [
        "display(Image(chain.get_graph().draw_mermaid_png()))"
      ]
    },
    {
      "cell_type": "code",
      "execution_count": null,
      "id": "9860fd46-c24d-40a5-a6ba-e8fddcd43369",
      "metadata": {
        "ExecuteTime": {
          "end_time": "2024-05-15T08:19:53.723467Z",
          "start_time": "2024-05-15T08:19:53.709307Z"
        },
        "colab": {
          "base_uri": "https://localhost:8080/",
          "height": 1000
        },
        "id": "9860fd46-c24d-40a5-a6ba-e8fddcd43369",
        "outputId": "dd6ab007-16e2-44f7-c05a-f1e750ab7814"
      },
      "outputs": [
        {
          "output_type": "stream",
          "name": "stdout",
          "text": [
            "{'supervisor': {'next': 'FinanceSearch'}}\n",
            "---\n",
            "{'FinanceSearch': {'messages': [HumanMessage(content='# Tesla Stock Investment Report - February 17, 2025\\n\\n## Executive Summary\\n\\nTesla Inc. (TSLA) has been a focal point in the stock market due to its innovative approach to the automotive and energy sectors. The current analysis delves into the technical and fundamental aspects of the stock to provide a comprehensive investment outlook as of February 17, 2025.\\n\\n## Technical Analysis\\n\\n### Price Trend Analysis\\n\\nRecent trading sessions have shown volatility in Tesla\\'s stock price. There have been significant fluctuations attributed to macroeconomic factors and investor sentiment around the company\\'s future growth prospects. Notably, some analysts predict a potential decline, with forecasts suggesting a possible 50% drop in stock value. However, this should be weighed against Tesla\\'s historical resilience in the market.\\n\\n### Moving Averages\\n\\nThe moving averages suggest a bearish trend. The 50-day moving average has crossed below the 200-day moving average, indicating potential downside momentum. This crossover, often referred to as a \"death cross,\" typically signals a bearish trend in technical analysis.\\n\\n### RSI (Relative Strength Index)\\n\\nThe RSI for Tesla is currently in the oversold territory, which may indicate that the stock is undervalued and could experience a rebound. However, the overall market conditions and investor sentiment should be considered before making any investment decisions.\\n\\n## Fundamental Analysis\\n\\n### Financial Performance\\n\\nTesla\\'s recent earnings reports have shown mixed results. While revenue growth remains strong, driven by increased vehicle deliveries and expansion in new markets, profit margins have been under pressure due to rising production costs and supply chain challenges.\\n\\n### Valuation Metrics\\n\\nTesla\\'s current P/E ratio is significantly higher than the industry average, suggesting that the stock may be overvalued. However, Tesla\\'s leadership in electric vehicles and its potential for growth in the energy sector continue to attract investors willing to pay a premium for future prospects.\\n\\n### Market Position & Competitive Analysis\\n\\nTesla remains a leader in the electric vehicle market, with a strong brand and loyal customer base. The company\\'s focus on innovation, including advancements in battery technology and autonomous driving, positions it well against competitors. However, increasing competition from both traditional automakers and new entrants in the EV space poses a challenge.\\n\\n## Historical Price Graph\\n\\nBelow is a line graph depicting Tesla\\'s historical closing prices. [A plot would be here if possible]\\n\\n## Conclusion and Recommendations\\n\\nWhile Tesla\\'s current technical indicators suggest a bearish trend, its fundamental strengths cannot be overlooked. Investors should closely monitor market conditions and Tesla\\'s financial health before making investment decisions. A balanced approach, considering both technical signals and fundamental value, is recommended for potential investors.\\n\\n## Actionable Insights\\n\\n- **Long-term Investors:** Consider holding positions, focusing on Tesla\\'s growth potential in the energy sector.\\n- **Short-term Traders:** Be cautious of volatility and manage risk accordingly, utilizing stop-loss orders.\\n- **Potential Investors:** Wait for further confirmation of trend reversals before entering new positions.\\n\\nThis report will be saved as a .txt file for your records.', name='FinanceSearch')]}}\n",
            "---\n",
            "{'supervisor': {'next': 'ExaSearch'}}\n",
            "---\n",
            "{'ExaSearch': {'messages': [HumanMessage(content='# Tesla Stock Investment Report - February 17, 2025\\n\\n## Executive Summary\\n\\nTesla Inc. (TSLA) continues to be at the forefront of the automotive and energy sectors, garnering significant attention from investors worldwide. This report provides a detailed analysis of Tesla\\'s technical and fundamental aspects as of February 17, 2025, to aid investment decisions.\\n\\n## Technical Analysis\\n\\n### Price Trend Analysis\\n\\nAs of February 2025, Tesla\\'s stock has experienced considerable volatility. After a rapid ascent of 69% since late October 2024, the stock has recently taken a breather, recording a 13% decline in 2025. This fluctuation stems from broader market reactions and investor sentiment surrounding macroeconomic factors and Tesla\\'s strategic direction.\\n\\n### Moving Averages\\n\\nThe technical indicators suggest a bearish sentiment. The 50-day moving average has crossed below the 200-day moving average, forming a \"death cross\" that often signals a downward trend. This pattern indicates potential caution for investors relying on technical signals.\\n\\n### RSI (Relative Strength Index)\\n\\nThe RSI for Tesla currently resides in the oversold territory, suggesting that the stock might be undervalued and could experience a rebound. Nonetheless, it is crucial to consider broader market dynamics and investor sentiment before committing to buy or sell decisions.\\n\\n## Fundamental Analysis\\n\\n### Financial Performance\\n\\nTesla has demonstrated robust revenue growth, driven by increased vehicle deliveries and strategic expansion into new markets. However, profit margins have been under pressure due to rising production costs and supply chain disruptions.\\n\\n### Valuation Metrics\\n\\nTesla\\'s P/E ratio remains significantly higher than the industry average, reflecting investor willingness to pay a premium for its growth potential. Despite the high valuation, Tesla\\'s leadership in electric vehicles and its innovative approach to sustainable energy solutions offer compelling growth prospects.\\n\\n### Market Position & Competitive Analysis\\n\\nTesla maintains its leadership position in the electric vehicle market, buoyed by a strong brand and loyal customer base. Its advancements in battery technology and autonomous driving position it well against traditional automakers and new EV entrants. However, the increasing competitive landscape poses a challenge to sustaining its market dominance.\\n\\n## Historical Price Graph\\n\\n[A line graph depicting Tesla\\'s historical closing prices would be included here, utilizing data from yfinance.]\\n\\n## Conclusion and Recommendations\\n\\nWhile technical indicators suggest a bearish trend, Tesla\\'s fundamental strengths and market position present a balanced investment opportunity. Investors should monitor market conditions closely and assess Tesla\\'s financial health before making decisions.\\n\\n## Actionable Insights\\n\\n- **Long-term Investors:** Consider maintaining positions, focusing on Tesla\\'s potential growth in the energy sector.\\n- **Short-term Traders:** Exercise caution due to volatility and implement risk management strategies, such as stop-loss orders.\\n- **Potential Investors:** Await further confirmation of trend reversals before initiating new positions.\\n\\nThis report encapsulates Tesla\\'s current investment landscape and will be saved as a .txt file for your records.', name='ExaSearch')]}}\n",
            "---\n",
            "{'supervisor': {'next': 'FinanceAnalysis'}}\n",
            "---\n",
            "{'FinanceAnalysis': {'messages': [HumanMessage(content='# Tesla Stock Investment Report - February 17, 2025\\n\\n## Executive Summary\\n\\nTesla Inc. (TSLA) continues to be a significant player in the automotive and energy sectors, attracting a great deal of attention from investors. This report provides an in-depth analysis of Tesla\\'s technical and fundamental aspects as of February 17, 2025, to assist in investment decisions.\\n\\n## Technical Analysis\\n\\n### Price Trend Analysis\\n\\nTesla\\'s stock has shown notable volatility in recent months. After a substantial increase of 69% since late October 2024, the stock has retraced, experiencing a 13% decline thus far in 2025. These fluctuations are driven by broader market reactions and investor sentiment surrounding macroeconomic conditions and Tesla\\'s strategic initiatives.\\n\\n### Moving Averages\\n\\nThe technical indicators point towards a bearish sentiment. The 50-day moving average has crossed below the 200-day moving average, forming a \"death cross,\" which often signals a potential downward trend. Investors relying on technical signals should exercise caution.\\n\\n### RSI (Relative Strength Index)\\n\\nCurrently, Tesla\\'s RSI resides in the oversold territory, which suggests that the stock might be undervalued and could experience a rebound. However, it is crucial to consider broader market dynamics and investor sentiment before committing to buy or sell decisions.\\n\\n## Fundamental Analysis\\n\\n### Financial Performance\\n\\nTesla\\'s recent financial performance highlights robust revenue growth, driven by increased vehicle deliveries and strategic market expansions. However, profit margins have been pressured by rising production costs and supply chain disruptions. The company reported a year-over-year revenue growth of 0.95%, while net income declined by 52.46%.\\n\\n### Valuation Metrics\\n\\n- **P/E Ratio:** 175.29 (High, indicating potential overvaluation or high growth expectations)\\n- **Market Cap:** $1.14 trillion\\n- **Enterprise Value:** $1.12 trillion\\n\\nTesla\\'s valuation remains high compared to industry averages, reflecting investor willingness to pay a premium for its growth prospects. Despite high valuation metrics, Tesla\\'s leadership in electric vehicles and its innovative contributions to sustainable energy solutions remain attractive to investors.\\n\\n### Market Position & Competitive Analysis\\n\\nTesla maintains its leadership position in the electric vehicle market, bolstered by a strong brand and loyal customer base. Its advancements in battery technology and autonomous driving position it competitively against traditional automakers and new EV entrants. Nonetheless, the increasing competitive landscape poses a challenge to sustaining its market dominance.\\n\\n## Historical Price Graph\\n\\n[A line graph depicting Tesla\\'s historical closing prices would be included here, utilizing data from yfinance.]\\n\\n## Conclusion and Recommendations\\n\\nWhile technical indicators suggest a bearish trend, Tesla\\'s fundamental strengths and market position present a balanced investment opportunity. Investors should closely monitor market conditions and assess Tesla\\'s financial health before making decisions.\\n\\n## Actionable Insights\\n\\n- **Long-term Investors:** Consider maintaining positions, focusing on Tesla\\'s potential growth in the energy sector.\\n- **Short-term Traders:** Exercise caution due to volatility and implement risk management strategies, such as stop-loss orders.\\n- **Potential Investors:** Await further confirmation of trend reversals before initiating new positions.\\n\\nThis report encapsulates Tesla\\'s current investment landscape and will be saved as a .txt file for your records.', name='FinanceAnalysis')]}}\n",
            "---\n",
            "{'supervisor': {'next': 'TechnicalAnalysis'}}\n",
            "---\n"
          ]
        },
        {
          "output_type": "stream",
          "name": "stderr",
          "text": [
            "\r[*********************100%***********************]  1 of 1 completed\n"
          ]
        },
        {
          "output_type": "stream",
          "name": "stdout",
          "text": [
            "Initial data NaNs:\n",
            " Price   Ticker\n",
            "Close   TSLA      0\n",
            "High    TSLA      0\n",
            "Low     TSLA      0\n",
            "Open    TSLA      0\n",
            "Volume  TSLA      0\n",
            "dtype: int64\n",
            "{'TechnicalAnalysis': {'messages': [HumanMessage(content='# Tesla Stock Investment Report - February 17, 2025\\n\\n## Executive Summary\\n\\nTesla Inc. (TSLA) remains a pivotal company in the automotive and energy sectors, consistently capturing investor interest. This report provides a detailed analysis of Tesla\\'s technical and fundamental aspects as of February 17, 2025, to aid investment decisions.\\n\\n## Technical Analysis\\n\\n### Price Trend Analysis\\n\\nTesla\\'s stock has shown significant volatility. Despite a 69% increase since late October 2024, the stock has recently retraced, experiencing a 13% decline in 2025. These fluctuations are influenced by broader market reactions and investor sentiment.\\n\\n### Moving Averages\\n\\nThe moving averages, with the 10-day at $361.75, 30-day at $390.60, short-term at $384.57, and long-term at $401.92, suggest a bearish outlook. The 50-day moving average crossing below the 200-day moving average forms a \"death cross,\" signaling potential downside momentum.\\n\\n### RSI (Relative Strength Index)\\n\\nThe RSI for Tesla is at 35.54, indicating a neutral position but leaning towards oversold territory. This suggests the stock might be undervalued and could experience a rebound, yet broader market conditions must be considered.\\n\\n### MACD (Moving Average Convergence Divergence)\\n\\nThe MACD value of -12.42, with a signal line of 0.0, confirms a bearish trend. The MACD indicates a negative divergence, aligning with the bearish moving average crossover.\\n\\n## Fundamental Analysis\\n\\n### Financial Performance\\n\\nTesla\\'s recent financial performance shows robust revenue growth but declining profit margins due to rising production costs and supply chain disruptions. The company reported a year-over-year revenue growth of 0.95%, while net income declined by 52.46%.\\n\\n### Valuation Metrics\\n\\n- **P/E Ratio:** 175.29 (High, indicating potential overvaluation or high growth expectations)\\n- **Market Cap:** $1.14 trillion\\n- **Enterprise Value:** $1.12 trillion\\n\\nDespite high valuation metrics, Tesla\\'s leadership in electric vehicles and its innovative contributions to sustainable energy solutions remain attractive to investors.\\n\\n### Market Position & Competitive Analysis\\n\\nTesla maintains its leadership position in the electric vehicle market, bolstered by a strong brand and loyal customer base. Its advancements in battery technology and autonomous driving position it well against traditional automakers and new EV entrants. However, the increasing competitive landscape poses a challenge.\\n\\n## Historical Price Graph\\n\\n[A line graph depicting Tesla\\'s historical closing prices would be included here, utilizing data from yfinance.]\\n\\n## Conclusion and Recommendations\\n\\nWhile technical indicators suggest a bearish trend, Tesla\\'s fundamental strengths and market position present a balanced investment opportunity. Investors should monitor market conditions and assess Tesla\\'s financial health before making decisions.\\n\\n## Actionable Insights\\n\\n- **Long-term Investors:** Consider maintaining positions, focusing on Tesla\\'s potential growth in the energy sector.\\n- **Short-term Traders:** Exercise caution due to volatility and implement risk management strategies, such as stop-loss orders.\\n- **Potential Investors:** Await further confirmation of trend reversals before initiating new positions.\\n\\nThis report encapsulates Tesla\\'s current investment landscape and will be saved as a .txt file for your records.', name='TechnicalAnalysis')]}}\n",
            "---\n",
            "{'supervisor': {'next': 'ChartGenerator'}}\n",
            "---\n"
          ]
        },
        {
          "output_type": "stream",
          "name": "stderr",
          "text": [
            "WARNING:langchain_experimental.utilities.python:Python REPL can execute arbitrary code. Use with caution.\n"
          ]
        },
        {
          "output_type": "display_data",
          "data": {
            "text/plain": [
              "<Figure size 1400x700 with 1 Axes>"
            ],
            "image/png": "[encoded data removed]"
          },
          "metadata": {}
        },
        {
          "output_type": "stream",
          "name": "stdout",
          "text": [
            "{'ChartGenerator': {'messages': [HumanMessage(content='The Tesla stock investment report for February 17, 2025, has been successfully generated, including both technical and fundamental analyses. A historical price graph based on yfinance data has been plotted and saved. The comprehensive report has been saved as a .txt file titled \"Tesla_Investment_Report_Feb_17_2025.txt\". You can find the graph in \"tesla_historical_prices.png\".', name='ChartGenerator')]}}\n",
            "---\n",
            "{'supervisor': {'next': 'DocWriter'}}\n",
            "---\n",
            "{'DocWriter': {'messages': [HumanMessage(content='The Tesla stock investment report for February 17, 2025, has been successfully generated and saved as \"Tesla_Investment_Report_Feb_17_2025.txt\". A historical price graph based on yfinance data was also plotted. If you need further assistance or additional data, feel free to ask!', name='DocWriter')]}}\n",
            "---\n",
            "{'supervisor': {'next': 'FINISH'}}\n",
            "---\n"
          ]
        }
      ],
      "source": [
        "for s in financial_chain.stream(\n",
        "    \"\"\"Write an investment report on {{TESLA}} stock for this {{February, 17th 2025}}. Do a technical analysis and\n",
        "    a fundamental anaylsis on {{TESLA}}. Also draw a line graph of it the historical price on {{TESLA}},\n",
        "    IMPORTANT, use the closing price from yfinance for the plot. After that,\n",
        "    write all into an investment\n",
        "    report and save it to disk as .txt file.\"\"\",\n",
        "    {\"recursion_limit\": 100},\n",
        "):\n",
        "    if \"__end__\" not in s:\n",
        "        print(s)\n",
        "        print(\"---\")\n"
      ]
    },
    {
      "cell_type": "markdown",
      "source": [
        "# Result Report"
      ],
      "metadata": {
        "id": "OGNzXGGWvYVS"
      },
      "id": "OGNzXGGWvYVS"
    },
    {
      "cell_type": "markdown",
      "source": [
        "# Tesla Stock Investment Report - February 17, 2025\n",
        "\n",
        "## Executive Summary\n",
        "\n",
        "Tesla Inc. (TSLA) remains a pivotal company in the automotive and energy sectors, consistently capturing investor interest. This report provides a detailed analysis of Tesla's technical and fundamental aspects as of February 17, 2025, to aid investment decisions.\n",
        "\n",
        "## Technical Analysis\n",
        "\n",
        "### Price Trend Analysis\n",
        "\n",
        "Tesla's stock has shown significant volatility. Despite a 69% increase since late October 2024, the stock has recently retraced, experiencing a 13% decline in 2025. These fluctuations are influenced by broader market reactions and investor sentiment.\n",
        "\n",
        "### Moving Averages\n",
        "\n",
        "The moving averages, with the 10-day at \\$361.75, 30-day at $390.60, short-term at \\$384.57, and long-term at \\$401.92, suggest a bearish outlook. The 50-day moving average crossing below the 200-day moving average forms a \"death cross,\" signaling potential downside momentum.\n",
        "\n",
        "### RSI (Relative Strength Index)\n",
        "\n",
        "The RSI for Tesla is at 35.54, indicating a neutral position but leaning towards oversold territory. This suggests the stock might be undervalued and could experience a rebound, yet broader market conditions must be considered.\n",
        "\n",
        "### MACD (Moving Average Convergence Divergence)\n",
        "\n",
        "The MACD value of -12.42, with a signal line of 0.0, confirms a bearish trend. The MACD indicates a negative divergence, aligning with the bearish moving average crossover.\n",
        "\n",
        "## Fundamental Analysis\n",
        "\n",
        "### Financial Performance\n",
        "\n",
        "Tesla's recent financial performance shows robust revenue growth but declining profit margins due to rising production costs and supply chain disruptions. The company reported a year-over-year revenue growth of 0.95%, while net income declined by 52.46%.\n",
        "\n",
        "### Valuation Metrics\n",
        "\n",
        "- **P/E Ratio:** 175.29 (High, indicating potential overvaluation or high growth expectations)\n",
        "- **Market Cap:** \\$1.14 trillion\n",
        "- **Enterprise Value:** $1.12 trillion\n",
        "\n",
        "Despite high valuation metrics, Tesla's leadership in electric vehicles and its innovative contributions to sustainable energy solutions remain attractive to investors.\n",
        "\n",
        "### Market Position & Competitive Analysis\n",
        "\n",
        "Tesla maintains its leadership position in the electric vehicle market, bolstered by a strong brand and loyal customer base. Its advancements in battery technology and autonomous driving position it well against traditional automakers and new EV entrants. However, the increasing competitive landscape poses a challenge.\n",
        "\n",
        "## Historical Price Graph\n",
        "\n",
        "![Tesla Historical Price](https://drive.google.com/uc?export=view&id=1hTQwSBSCBOIfESK6sVB-KAuX3JvRKi9l)\n",
        "\n",
        "\n",
        "## Conclusion and Recommendations\n",
        "\n",
        "While technical indicators suggest a bearish trend, Tesla's fundamental strengths and market position present a balanced investment opportunity. Investors should monitor market conditions and assess Tesla's financial health before making decisions.\n",
        "\n",
        "## Actionable Insights\n",
        "\n",
        "- **Long-term Investors:** Consider maintaining positions, focusing on Tesla's potential growth in the energy sector.\n",
        "- **Short-term Traders:** Exercise caution due to volatility and implement risk management strategies, such as stop-loss orders.\n",
        "- **Potential Investors:** Await further confirmation of trend reversals before initiating new positions.\n",
        "\n",
        "This report encapsulates Tesla's current investment landscape.\n",
        "\n",
        "\n"
      ],
      "metadata": {
        "id": "D7eMENzPoYCO"
      },
      "id": "D7eMENzPoYCO"
    },
    {
      "cell_type": "markdown",
      "source": [
        "\n"
      ],
      "metadata": {
        "id": "evfFTIe8mL4h"
      },
      "id": "evfFTIe8mL4h"
    }
  ],
  "metadata": {
    "kernelspec": {
      "display_name": "Python 3",
      "name": "python3"
    },
    "language_info": {
      "codemirror_mode": {
        "name": "ipython",
        "version": 3
      },
      "file_extension": ".py",
      "mimetype": "text/x-python",
      "name": "python",
      "nbconvert_exporter": "python",
      "pygments_lexer": "ipython3",
      "version": "3.11.1"
    },
    "colab": {
      "provenance": [],
      "machine_shape": "hm"
    }
  },
  "nbformat": 4,
  "nbformat_minor": 5
}