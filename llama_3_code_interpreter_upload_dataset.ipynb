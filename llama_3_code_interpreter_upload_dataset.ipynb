{
  "cells": [
    {
      "cell_type": "markdown",
      "source": [
        "# Open Notebook directly in Google Colab:\n",
        "\n",
        "<a target=\"_blank\" href=\"https://colab.research.google.com/github/Nicolepcx/CFEM-Seminar/blob/main/llama_3_code_interpreter_upload_dataset.ipynb\">\n",
        "  <img src=\"https://colab.research.google.com/assets/colab-badge.svg\" alt=\"Open In Colab\"/>\n",
        "</a>"
      ],
      "metadata": {
        "id": "-JxXH25Ryl0g"
      }
    },
    {
      "cell_type": "markdown",
      "metadata": {
        "id": "sgJos9SJNkht"
      },
      "source": [
        "# Llama 3 with code interpreting and analyzing uploaded dataset\n",
        "\n",
        "With open-source [Code Interpreter SDK](https://github.com/e2b-dev/code-interpreter) by [E2B](https://e2b.dev/docs)\n",
        "\n",
        "Inside this sandbox is a running Jupyter server that the LLM can use."
      ]
    },
    {
      "cell_type": "markdown",
      "metadata": {
        "id": "c3XPiIUY1vqt"
      },
      "source": [
        "### Step 1: Install dependencies\n"
      ]
    },
    {
      "cell_type": "code",
      "execution_count": null,
      "metadata": {
        "colab": {
          "base_uri": "https://localhost:8080/"
        },
        "id": "OLxqUGV5_wnv",
        "outputId": "d3037655-7794-4e4b-d7ac-c3f97f7bcd19"
      },
      "outputs": [
        {
          "output_type": "stream",
          "name": "stdout",
          "text": [
            "Requirement already satisfied: e2b_code_interpreter==1.0.0 in /usr/local/lib/python3.11/dist-packages (1.0.0)\n",
            "Requirement already satisfied: python-dotenv==1.0.1 in /usr/local/lib/python3.11/dist-packages (1.0.1)\n",
            "Collecting openai==1.58.1\n",
            "  Downloading openai-1.58.1-py3-none-any.whl.metadata (27 kB)\n",
            "Requirement already satisfied: attrs>=21.3.0 in /usr/local/lib/python3.11/dist-packages (from e2b_code_interpreter==1.0.0) (25.1.0)\n",
            "Requirement already satisfied: e2b<2.0.0,>=1.0.0 in /usr/local/lib/python3.11/dist-packages (from e2b_code_interpreter==1.0.0) (1.0.6)\n",
            "Requirement already satisfied: httpx<0.28.0,>=0.20.0 in /usr/local/lib/python3.11/dist-packages (from e2b_code_interpreter==1.0.0) (0.27.2)\n",
            "Requirement already satisfied: anyio<5,>=3.5.0 in /usr/local/lib/python3.11/dist-packages (from openai==1.58.1) (3.7.1)\n",
            "Requirement already satisfied: distro<2,>=1.7.0 in /usr/local/lib/python3.11/dist-packages (from openai==1.58.1) (1.9.0)\n",
            "Requirement already satisfied: jiter<1,>=0.4.0 in /usr/local/lib/python3.11/dist-packages (from openai==1.58.1) (0.8.2)\n",
            "Requirement already satisfied: pydantic<3,>=1.9.0 in /usr/local/lib/python3.11/dist-packages (from openai==1.58.1) (2.10.6)\n",
            "Requirement already satisfied: sniffio in /usr/local/lib/python3.11/dist-packages (from openai==1.58.1) (1.3.1)\n",
            "Requirement already satisfied: tqdm>4 in /usr/local/lib/python3.11/dist-packages (from openai==1.58.1) (4.67.1)\n",
            "Requirement already satisfied: typing-extensions<5,>=4.11 in /usr/local/lib/python3.11/dist-packages (from openai==1.58.1) (4.12.2)\n",
            "Requirement already satisfied: idna>=2.8 in /usr/local/lib/python3.11/dist-packages (from anyio<5,>=3.5.0->openai==1.58.1) (3.10)\n",
            "Requirement already satisfied: httpcore<2.0.0,>=1.0.5 in /usr/local/lib/python3.11/dist-packages (from e2b<2.0.0,>=1.0.0->e2b_code_interpreter==1.0.0) (1.0.7)\n",
            "Requirement already satisfied: packaging>=24.1 in /usr/local/lib/python3.11/dist-packages (from e2b<2.0.0,>=1.0.0->e2b_code_interpreter==1.0.0) (24.2)\n",
            "Requirement already satisfied: protobuf<6.0.0,>=3.20.0 in /usr/local/lib/python3.11/dist-packages (from e2b<2.0.0,>=1.0.0->e2b_code_interpreter==1.0.0) (4.25.6)\n",
            "Requirement already satisfied: python-dateutil>=2.8.2 in /usr/local/lib/python3.11/dist-packages (from e2b<2.0.0,>=1.0.0->e2b_code_interpreter==1.0.0) (2.8.2)\n",
            "Requirement already satisfied: certifi in /usr/local/lib/python3.11/dist-packages (from httpx<0.28.0,>=0.20.0->e2b_code_interpreter==1.0.0) (2024.12.14)\n",
            "Requirement already satisfied: h11<0.15,>=0.13 in /usr/local/lib/python3.11/dist-packages (from httpcore<2.0.0,>=1.0.5->e2b<2.0.0,>=1.0.0->e2b_code_interpreter==1.0.0) (0.14.0)\n",
            "Requirement already satisfied: annotated-types>=0.6.0 in /usr/local/lib/python3.11/dist-packages (from pydantic<3,>=1.9.0->openai==1.58.1) (0.7.0)\n",
            "Requirement already satisfied: pydantic-core==2.27.2 in /usr/local/lib/python3.11/dist-packages (from pydantic<3,>=1.9.0->openai==1.58.1) (2.27.2)\n",
            "Requirement already satisfied: six>=1.5 in /usr/local/lib/python3.11/dist-packages (from python-dateutil>=2.8.2->e2b<2.0.0,>=1.0.0->e2b_code_interpreter==1.0.0) (1.17.0)\n",
            "Downloading openai-1.58.1-py3-none-any.whl (454 kB)\n",
            "\u001b[2K   \u001b[90m━━━━━━━━━━━━━━━━━━━━━━━━━━━━━━━━━━━━━━━━\u001b[0m \u001b[32m454.3/454.3 kB\u001b[0m \u001b[31m10.5 MB/s\u001b[0m eta \u001b[36m0:00:00\u001b[0m\n",
            "\u001b[?25hInstalling collected packages: openai\n",
            "  Attempting uninstall: openai\n",
            "    Found existing installation: openai 1.59.9\n",
            "    Uninstalling openai-1.59.9:\n",
            "      Successfully uninstalled openai-1.59.9\n",
            "Successfully installed openai-1.58.1\n"
          ]
        }
      ],
      "source": [
        "%pip install e2b_code_interpreter==1.0.0 python-dotenv==1.0.1 openai==1.58.1"
      ]
    },
    {
      "cell_type": "markdown",
      "metadata": {
        "id": "MJDyfcPYyLe7"
      },
      "source": [
        "### Step 2: Define API keys, prompt, and tools\n",
        "\n",
        "Let's define our variables with API keys for Groq and E2B together with the model ID, prompt, and our tools."
      ]
    },
    {
      "cell_type": "code",
      "metadata": {
        "id": "NYAAAS_kFD87",
        "jupyter": {
          "is_executing": true
        }
      },
      "source": [
        "import os\n",
        "from dotenv import load_dotenv\n",
        "load_dotenv()\n",
        "\n",
        "# TODO: Get your Nebius API key from https://studio.nebius.ai/\n",
        "NEBIUS_API_KEY = os.getenv(\"NEBIUS_API_KEY\")\n",
        "\n",
        "# TODO: Get your E2B API key from https://e2b.dev/docs\n",
        "E2B_API_KEY = os.getenv(\"E2B_API_KEY\")\n",
        "\n",
        "MODEL_NAME = \"meta-llama/Llama-3.3-70B-Instruct-fast\"\n",
        "\n",
        "SYSTEM_PROMPT = \"\"\"You're a python data scientist that is analyzing loan payments.\n",
        "You are given tasks to complete and you run python code to solve them.\n",
        "\n",
        "Information about the the temperature dataset:\n",
        "- It's in the `/content/loans_payments.csv` file\n",
        "\n",
        "Generally you follow these rules:\n",
        "- the python code runs in jupyter notebook.\n",
        "- every time you call `execute_python` tool, the python code is executed in a separate cell. it's okay to multiple calls to `execute_python`.\n",
        "- display visualizations using matplotlib or any other visualization library directly in the notebook. don't worry about saving the visualizations to a file.\n",
        "- you have access to the internet and can make api requests.\n",
        "- you also have access to the filesystem and can read/write files.\n",
        "- you can install any pip package (if it exists) if you need to but the usual packages for data analysis are already preinstalled.\n",
        "- you can run any python code you want, everything is running in a secure sandbox environment\n",
        "\"\"\"\n",
        "\n",
        "\n",
        "tools = [\n",
        "  {\n",
        "    \"type\": \"function\",\n",
        "      \"function\": {\n",
        "        \"name\": \"execute_python\",\n",
        "        \"description\": \"Execute python code in a Jupyter notebook cell and returns any result, stdout, stderr, display_data, and error.\",\n",
        "        \"parameters\": {\n",
        "          \"type\": \"object\",\n",
        "          \"properties\": {\n",
        "            \"code\": {\n",
        "              \"type\": \"string\",\n",
        "              \"description\": \"The python code to execute in a single cell.\",\n",
        "            }\n",
        "          },\n",
        "          \"required\": [\"code\"],\n",
        "        },\n",
        "      },\n",
        "  }\n",
        "]"
      ],
      "outputs": [],
      "execution_count": null
    },
    {
      "cell_type": "markdown",
      "metadata": {
        "id": "10O-rSQcy4Bi"
      },
      "source": [
        "### Step 3: Implement the method for code interpreting\n",
        "\n",
        "Here's the main function that use the E2B code interpreter SDK. We'll be calling this function a little bit further when we're parsing the Llama's response with tool calls."
      ]
    },
    {
      "cell_type": "code",
      "execution_count": null,
      "metadata": {
        "id": "BpiwOkTqEeBh"
      },
      "outputs": [],
      "source": [
        "def code_interpret(e2b_code_interpreter, code):\n",
        "  print(\"Running code interpreter...\")\n",
        "  exec = e2b_code_interpreter.run_code(code,\n",
        "  on_stderr=lambda stderr: print(\"[Code Interpreter]\", stderr),\n",
        "  on_stdout=lambda stdout: print(\"[Code Interpreter]\", stdout))\n",
        "\n",
        "  if exec.error:\n",
        "    print(\"[Code Interpreter ERROR]\", exec.error)\n",
        "  else:\n",
        "    return exec.results"
      ]
    },
    {
      "cell_type": "markdown",
      "metadata": {
        "id": "A1eYw4jKz3RX"
      },
      "source": [
        "### Step 4: Implement the method for calling LLM and parsing tools\n",
        "\n",
        "Now we're going to define and implement `chat_with_llama` method. In this method, we'll call the LLM with our `tools` dictionary, parse the output, and call our `code_interpret` method we defined above."
      ]
    },
    {
      "cell_type": "code",
      "execution_count": null,
      "metadata": {
        "id": "IsLjFlRW_TAR"
      },
      "outputs": [],
      "source": [
        "import os\n",
        "import json\n",
        "import re\n",
        "from openai import OpenAI\n",
        "\n",
        "client = OpenAI(api_key=NEBIUS_API_KEY,\n",
        "                base_url=\"https://api.studio.nebius.ai/v1/\")\n",
        "\n",
        "\n",
        "def chat_with_llama(e2b_code_interpreter, user_message):\n",
        "  print(f\"\\n{'='*50}\\nUser message: {user_message}\\n{'='*50}\")\n",
        "\n",
        "  messages = [\n",
        "      {\"role\": \"system\", \"content\": SYSTEM_PROMPT},\n",
        "      {\"role\": \"user\", \"content\": user_message}\n",
        "  ]\n",
        "\n",
        "  response = client.chat.completions.create(\n",
        "      model=MODEL_NAME,\n",
        "      messages=messages,\n",
        "      tools=tools,\n",
        "      tool_choice=\"auto\",\n",
        "      max_tokens=4096,\n",
        "  )\n",
        "\n",
        "  response_message = response.choices[0].message\n",
        "  tool_calls = response_message.tool_calls\n",
        "\n",
        "  if tool_calls:\n",
        "    for tool_call in tool_calls:\n",
        "      function_name = tool_call.function.name\n",
        "      function_args = json.loads(tool_call.function.arguments)\n",
        "      if function_name == \"execute_python\":\n",
        "        code = function_args[\"code\"]\n",
        "        code_interpreter_results = code_interpret(e2b_code_interpreter, code)\n",
        "        return code_interpreter_results\n",
        "      else:\n",
        "        raise Exception(f\"Unknown tool {function_name}\")\n",
        "  else:\n",
        "    print(f\"(No tool call in model's response) {response_message}\")\n",
        "    return []\n"
      ]
    },
    {
      "cell_type": "markdown",
      "metadata": {
        "id": "9ey_AwvPi-DG"
      },
      "source": [
        "### Step 5: Implement method for uploading dataset to code interpreter sandbox\n",
        "The file gets uploaded to the E2B sandbox where our code interpreter is running. We get the file's remote path in the `remote_path` variable."
      ]
    },
    {
      "cell_type": "code",
      "execution_count": null,
      "metadata": {
        "id": "f-CsLqcHQk5r"
      },
      "outputs": [],
      "source": [
        "def upload_dataset(code_interpreter):\n",
        "  print(\"Uploading dataset to Code Interpreter sandbox...\")\n",
        "  file_path = \"/content/loans_payments.csv\"\n",
        "  with open(file_path, \"rb\") as f:\n",
        "    code_interpreter.files.write(file_path, f)\n",
        "  print(\"Uploaded at\", file_path)"
      ]
    },
    {
      "cell_type": "markdown",
      "metadata": {
        "id": "1ybhpXok1tQC"
      },
      "source": [
        "### Step 6: Put everything together\n",
        "In this last step, we put all the pieces together. We instantiate a new code interpreter instance using\n",
        "```python\n",
        "with CodeInterpreter(api_key=E2B_API_KEY) as code_interpreter:\n",
        "```\n",
        "\n",
        "and then call the `chat_with_llama` method with our user message and the `code_interpreter` instance."
      ]
    },
    {
      "cell_type": "code",
      "execution_count": null,
      "metadata": {
        "colab": {
          "base_uri": "https://localhost:8080/",
          "height": 789
        },
        "id": "wKSWobclENIq",
        "outputId": "d2432b70-4b44-4719-856d-b8acf4be0177"
      },
      "outputs": [
        {
          "output_type": "stream",
          "name": "stdout",
          "text": [
            "Uploading dataset to Code Interpreter sandbox...\n",
            "Uploaded at /content/loans_payments.csv\n",
            "\n",
            "==================================================\n",
            "User message: plot a barchart of education from the file: /content/loans_payments.csv\n",
            "==================================================\n",
            "Running code interpreter...\n",
            "[Code Interpreter] college                 220\n",
            "High School or Below    209\n",
            "Bechalor                 67\n",
            "Master or Above           4\n",
            "Name: education, dtype: int64\n",
            "\n"
          ]
        },
        {
          "output_type": "execute_result",
          "data": {
            "text/plain": [
              "Result(<Figure size 640x480 with 1 Axes>)"
            ],
            "image/png": "[encoded data removed]"
          },
          "metadata": {},
          "execution_count": 12
        }
      ],
      "source": [
        "from e2b_code_interpreter import Sandbox\n",
        "\n",
        "\n",
        "with Sandbox(api_key=E2B_API_KEY) as code_interpreter:\n",
        "\n",
        "  # Upload the dataset to the code interpreter sandbox\n",
        "  upload_dataset(code_interpreter)\n",
        "\n",
        "  code_results = chat_with_llama(\n",
        "    code_interpreter,\n",
        "    \"plot a barchart of education from the file: /content/loans_payments.csv\"\n",
        "  )\n",
        "  if code_results:\n",
        "    first_result = code_results[0]\n",
        "  else:\n",
        "    raise Exception(\"No code results\")\n",
        "\n",
        "\n",
        "# This will render the image\n",
        "# You can also access the data directly\n",
        "# first_result.png\n",
        "# first_result.jpg\n",
        "# first_result.pdf\n",
        "# ...\n",
        "first_result"
      ]
    },
    {
      "cell_type": "code",
      "source": [
        "with Sandbox(api_key=E2B_API_KEY) as code_interpreter:\n",
        "\n",
        "  # Upload the dataset to the code interpreter sandbox\n",
        "  upload_dataset(code_interpreter)\n",
        "\n",
        "  code_results = chat_with_llama(\n",
        "    code_interpreter,\n",
        "    \"print the first 4 rows of the file\"\n",
        "  )\n",
        "  if code_results:\n",
        "    first_result = code_results[0]\n",
        "  else:\n",
        "    raise Exception(\"No code results\")\n",
        "\n",
        "\n",
        "# This will render the image\n",
        "# You can also access the data directly\n",
        "# first_result.png\n",
        "# first_result.jpg\n",
        "# first_result.pdf\n",
        "# ...\n",
        "first_result"
      ],
      "metadata": {
        "colab": {
          "base_uri": "https://localhost:8080/",
          "height": 551
        },
        "id": "rfGAYmL94w3v",
        "outputId": "a84f8e6f-8433-4417-c248-424dd69fdea4"
      },
      "execution_count": null,
      "outputs": [
        {
          "output_type": "stream",
          "name": "stdout",
          "text": [
            "Uploading dataset to Code Interpreter sandbox...\n",
            "Uploaded at /content/loans_payments.csv\n",
            "\n",
            "==================================================\n",
            "User message: print the first 4 rows of the file \n",
            "==================================================\n",
            "Running code interpreter...\n",
            "[Code Interpreter] /usr/local/lib/python3.10/site-packages/jupyter_client/session.py:721: UserWarning: Message serialization failed with:\n",
            "Out of range float values are not JSON compliant\n",
            "Supporting this message is deprecated in jupyter-client 7, please make sure your message is JSON-compliant\n",
            "  content = self.pack(content)\n",
            "\n"
          ]
        },
        {
          "output_type": "execute_result",
          "data": {
            "text/plain": [
              "Result(         Loan_ID         loan_status  Principal  terms effective_date  \\\n",
              "0    xqd20166231             PAIDOFF       1000     30       9/8/2016   \n",
              "1    xqd20168902             PAIDOFF       1000     30       9/8/2016   \n",
              "..           ...                 ...        ...    ...            ...   \n",
              "498  xqd20160499  COLLECTION_PAIDOFF       1000     30      9/12/2016   \n",
              "499  xqd20160500  COLLECTION_PAIDOFF       1000     30      9/12/2016   \n",
              "\n",
              "       due_date     paid_off_time  past_due_days  age             education  \\\n",
              "0     10/7/2016   9/14/2016 19:31            NaN   45  High School or Below   \n",
              "1     10/7/2016    10/7/2016 9:00            NaN   50              Bechalor   \n",
              "..          ...               ...            ...  ...                   ...   \n",
              "498  11/10/2016  11/11/2016 22:40            1.0   38               college   \n",
              "499  10/11/2016  10/19/2016 11:58            8.0   28  High School or Below   \n",
              "\n",
              "     Gender  \n",
              "0      male  \n",
              "1    female  \n",
              "..      ...  \n",
              "498  female  \n",
              "499    male  \n",
              "\n",
              "[500 rows x 11 columns])"
            ],
            "text/html": [
              "<div>\n",
              "<style scoped>\n",
              "    .dataframe tbody tr th:only-of-type {\n",
              "        vertical-align: middle;\n",
              "    }\n",
              "\n",
              "    .dataframe tbody tr th {\n",
              "        vertical-align: top;\n",
              "    }\n",
              "\n",
              "    .dataframe thead th {\n",
              "        text-align: right;\n",
              "    }\n",
              "</style>\n",
              "<table border=\"1\" class=\"dataframe\">\n",
              "  <thead>\n",
              "    <tr style=\"text-align: right;\">\n",
              "      <th></th>\n",
              "      <th>Loan_ID</th>\n",
              "      <th>loan_status</th>\n",
              "      <th>Principal</th>\n",
              "      <th>terms</th>\n",
              "      <th>effective_date</th>\n",
              "      <th>due_date</th>\n",
              "      <th>paid_off_time</th>\n",
              "      <th>past_due_days</th>\n",
              "      <th>age</th>\n",
              "      <th>education</th>\n",
              "      <th>Gender</th>\n",
              "    </tr>\n",
              "  </thead>\n",
              "  <tbody>\n",
              "    <tr>\n",
              "      <th>0</th>\n",
              "      <td>xqd20166231</td>\n",
              "      <td>PAIDOFF</td>\n",
              "      <td>1000</td>\n",
              "      <td>30</td>\n",
              "      <td>9/8/2016</td>\n",
              "      <td>10/7/2016</td>\n",
              "      <td>9/14/2016 19:31</td>\n",
              "      <td>NaN</td>\n",
              "      <td>45</td>\n",
              "      <td>High School or Below</td>\n",
              "      <td>male</td>\n",
              "    </tr>\n",
              "    <tr>\n",
              "      <th>1</th>\n",
              "      <td>xqd20168902</td>\n",
              "      <td>PAIDOFF</td>\n",
              "      <td>1000</td>\n",
              "      <td>30</td>\n",
              "      <td>9/8/2016</td>\n",
              "      <td>10/7/2016</td>\n",
              "      <td>10/7/2016 9:00</td>\n",
              "      <td>NaN</td>\n",
              "      <td>50</td>\n",
              "      <td>Bechalor</td>\n",
              "      <td>female</td>\n",
              "    </tr>\n",
              "    <tr>\n",
              "      <th>...</th>\n",
              "      <td>...</td>\n",
              "      <td>...</td>\n",
              "      <td>...</td>\n",
              "      <td>...</td>\n",
              "      <td>...</td>\n",
              "      <td>...</td>\n",
              "      <td>...</td>\n",
              "      <td>...</td>\n",
              "      <td>...</td>\n",
              "      <td>...</td>\n",
              "      <td>...</td>\n",
              "    </tr>\n",
              "    <tr>\n",
              "      <th>498</th>\n",
              "      <td>xqd20160499</td>\n",
              "      <td>COLLECTION_PAIDOFF</td>\n",
              "      <td>1000</td>\n",
              "      <td>30</td>\n",
              "      <td>9/12/2016</td>\n",
              "      <td>11/10/2016</td>\n",
              "      <td>11/11/2016 22:40</td>\n",
              "      <td>1.0</td>\n",
              "      <td>38</td>\n",
              "      <td>college</td>\n",
              "      <td>female</td>\n",
              "    </tr>\n",
              "    <tr>\n",
              "      <th>499</th>\n",
              "      <td>xqd20160500</td>\n",
              "      <td>COLLECTION_PAIDOFF</td>\n",
              "      <td>1000</td>\n",
              "      <td>30</td>\n",
              "      <td>9/12/2016</td>\n",
              "      <td>10/11/2016</td>\n",
              "      <td>10/19/2016 11:58</td>\n",
              "      <td>8.0</td>\n",
              "      <td>28</td>\n",
              "      <td>High School or Below</td>\n",
              "      <td>male</td>\n",
              "    </tr>\n",
              "  </tbody>\n",
              "</table>\n",
              "<p>500 rows × 11 columns</p>\n",
              "</div>"
            ]
          },
          "metadata": {},
          "execution_count": 15
        }
      ]
    },
    {
      "cell_type": "code",
      "source": [
        "with Sandbox(api_key=E2B_API_KEY) as code_interpreter:\n",
        "\n",
        "  # Upload the dataset to the code interpreter sandbox\n",
        "  upload_dataset(code_interpreter)\n",
        "\n",
        "  code_results = chat_with_llama(\n",
        "    code_interpreter,\n",
        "    \"plot a stacked barchart of education and Gender together in one chart of /content/loans_payments.csv\"\n",
        "  )\n",
        "  if code_results:\n",
        "    first_result = code_results[0]\n",
        "  else:\n",
        "    raise Exception(\"No code results\")\n",
        "\n",
        "\n",
        "# This will render the image\n",
        "# You can also access the data directly\n",
        "# first_result.png\n",
        "# first_result.jpg\n",
        "# first_result.pdf\n",
        "# ...\n",
        "first_result"
      ],
      "metadata": {
        "colab": {
          "base_uri": "https://localhost:8080/",
          "height": 705
        },
        "id": "88y9gvv_5RhA",
        "outputId": "f78954ba-5296-4918-c64a-de042a8cff47"
      },
      "execution_count": null,
      "outputs": [
        {
          "output_type": "stream",
          "name": "stdout",
          "text": [
            "Uploading dataset to Code Interpreter sandbox...\n",
            "Uploaded at /content/loans_payments.csv\n",
            "\n",
            "==================================================\n",
            "User message: plot a stacked barchart of education and Gender together in one chart of /content/loans_payments.csv\n",
            "==================================================\n",
            "Running code interpreter...\n"
          ]
        },
        {
          "output_type": "execute_result",
          "data": {
            "text/plain": [
              "Result(<Figure size 640x480 with 1 Axes>)"
            ],
            "image/png": "[encoded data removed]"
          },
          "metadata": {},
          "execution_count": 23
        }
      ]
    },
    {
      "cell_type": "code",
      "source": [],
      "metadata": {
        "id": "NOoGNIea5qbV"
      },
      "execution_count": null,
      "outputs": []
    }
  ],
  "metadata": {
    "colab": {
      "provenance": []
    },
    "kernelspec": {
      "display_name": "Python 3",
      "name": "python3"
    },
    "language_info": {
      "name": "python"
    }
  },
  "nbformat": 4,
  "nbformat_minor": 0
}